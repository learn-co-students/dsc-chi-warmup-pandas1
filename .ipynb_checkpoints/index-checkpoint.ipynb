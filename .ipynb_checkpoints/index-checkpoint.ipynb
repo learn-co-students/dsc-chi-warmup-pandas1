{
 "cells": [
  {
   "cell_type": "markdown",
   "metadata": {},
   "source": [
    "# Pandas Warmup\n",
    "\n",
    "Pandas out yer ears"
   ]
  },
  {
   "cell_type": "markdown",
   "metadata": {},
   "source": [
    "## Data setup\n",
    "\n",
    "Import: \n",
    "\n",
    "- Pandas under the alias 'pd'\n",
    "\n",
    "- Matplotlib.pyplot under the alias 'plt'\n",
    "\n",
    "Run:\n",
    "- %matplotlib inline"
   ]
  },
  {
   "cell_type": "code",
   "execution_count": null,
   "metadata": {},
   "outputs": [],
   "source": []
  },
  {
   "cell_type": "code",
   "execution_count": 7,
   "metadata": {},
   "outputs": [],
   "source": [
    "#__SOLUTION__\n",
    "\n",
    "#data manip\n",
    "import pandas as pd\n",
    "\n",
    "#data viz\n",
    "import matplotlib.pyplot as plt\n",
    "\n",
    "#jn commands\n",
    "#run charts below cells\n",
    "%matplotlib inline "
   ]
  },
  {
   "cell_type": "markdown",
   "metadata": {},
   "source": [
    "#### Make a dataframe by reading in the csv 'Chicago_Park_District__Movies_in_the_Parks_2019' which is in the \"data\" folder  \n",
    "\n",
    "#### Assign the dataframe to the variable 'movies'\n",
    "\n",
    "#### Look at the first five rows"
   ]
  },
  {
   "cell_type": "code",
   "execution_count": null,
   "metadata": {},
   "outputs": [],
   "source": []
  },
  {
   "cell_type": "code",
   "execution_count": 303,
   "metadata": {},
   "outputs": [
    {
     "data": {
      "text/html": [
       "<div>\n",
       "<style scoped>\n",
       "    .dataframe tbody tr th:only-of-type {\n",
       "        vertical-align: middle;\n",
       "    }\n",
       "\n",
       "    .dataframe tbody tr th {\n",
       "        vertical-align: top;\n",
       "    }\n",
       "\n",
       "    .dataframe thead th {\n",
       "        text-align: right;\n",
       "    }\n",
       "</style>\n",
       "<table border=\"1\" class=\"dataframe\">\n",
       "  <thead>\n",
       "    <tr style=\"text-align: right;\">\n",
       "      <th></th>\n",
       "      <th>Day</th>\n",
       "      <th>Date</th>\n",
       "      <th>Park</th>\n",
       "      <th>Park Phone</th>\n",
       "      <th>Title</th>\n",
       "      <th>CC</th>\n",
       "      <th>Rating</th>\n",
       "      <th>Underwriter</th>\n",
       "      <th>Park Address</th>\n",
       "      <th>Location</th>\n",
       "    </tr>\n",
       "  </thead>\n",
       "  <tbody>\n",
       "    <tr>\n",
       "      <td>0</td>\n",
       "      <td>Mon</td>\n",
       "      <td>08/12/2019</td>\n",
       "      <td>River Park</td>\n",
       "      <td>(312) 742-7516</td>\n",
       "      <td>Hotel Transylvania 3</td>\n",
       "      <td>Y</td>\n",
       "      <td>PG</td>\n",
       "      <td>NaN</td>\n",
       "      <td>5100 N. Francisco Ave.</td>\n",
       "      <td>(41.97406838, -87.70144885)</td>\n",
       "    </tr>\n",
       "    <tr>\n",
       "      <td>1</td>\n",
       "      <td>Thu</td>\n",
       "      <td>07/18/2019</td>\n",
       "      <td>Hoard Playground Park</td>\n",
       "      <td>(773) 256-1903</td>\n",
       "      <td>Black Panther</td>\n",
       "      <td>Y</td>\n",
       "      <td>PG-13</td>\n",
       "      <td>NaN</td>\n",
       "      <td>7201 S. Dobson Ave.</td>\n",
       "      <td>(41.7640317, -87.59928813)</td>\n",
       "    </tr>\n",
       "    <tr>\n",
       "      <td>2</td>\n",
       "      <td>Fri</td>\n",
       "      <td>06/07/2019</td>\n",
       "      <td>Berger Park Cultural Center</td>\n",
       "      <td>(773) 761-0376</td>\n",
       "      <td>Some Like It Hot</td>\n",
       "      <td>Y</td>\n",
       "      <td>NR</td>\n",
       "      <td>NaN</td>\n",
       "      <td>6205 N. Sheridan Rd.</td>\n",
       "      <td>(41.99480562, -87.65538421)</td>\n",
       "    </tr>\n",
       "    <tr>\n",
       "      <td>3</td>\n",
       "      <td>Sat</td>\n",
       "      <td>07/13/2019</td>\n",
       "      <td>Skinner Park</td>\n",
       "      <td>(312) 746-5560</td>\n",
       "      <td>Big Hero 6</td>\n",
       "      <td>Y</td>\n",
       "      <td>PG</td>\n",
       "      <td>The Museum of Science and Industry</td>\n",
       "      <td>1331 W. Monroe St.</td>\n",
       "      <td>(41.88015941, -87.66077867)</td>\n",
       "    </tr>\n",
       "    <tr>\n",
       "      <td>4</td>\n",
       "      <td>Wed</td>\n",
       "      <td>07/24/2019</td>\n",
       "      <td>Kilbourn Park</td>\n",
       "      <td>(773) 685-3351</td>\n",
       "      <td>El Reality</td>\n",
       "      <td>Y</td>\n",
       "      <td>NR</td>\n",
       "      <td>The International Latino Cultural Center</td>\n",
       "      <td>3501 N. Kilbourn Ave.</td>\n",
       "      <td>(41.94450485, -87.73951111)</td>\n",
       "    </tr>\n",
       "  </tbody>\n",
       "</table>\n",
       "</div>"
      ],
      "text/plain": [
       "   Day        Date                         Park      Park Phone  \\\n",
       "0  Mon  08/12/2019                   River Park  (312) 742-7516   \n",
       "1  Thu  07/18/2019        Hoard Playground Park  (773) 256-1903   \n",
       "2  Fri  06/07/2019  Berger Park Cultural Center  (773) 761-0376   \n",
       "3  Sat  07/13/2019                 Skinner Park  (312) 746-5560   \n",
       "4  Wed  07/24/2019                Kilbourn Park  (773) 685-3351   \n",
       "\n",
       "                  Title CC Rating                               Underwriter  \\\n",
       "0  Hotel Transylvania 3  Y     PG                                       NaN   \n",
       "1         Black Panther  Y  PG-13                                       NaN   \n",
       "2      Some Like It Hot  Y     NR                                       NaN   \n",
       "3            Big Hero 6  Y     PG        The Museum of Science and Industry   \n",
       "4            El Reality  Y     NR  The International Latino Cultural Center   \n",
       "\n",
       "             Park Address                     Location  \n",
       "0  5100 N. Francisco Ave.  (41.97406838, -87.70144885)  \n",
       "1     7201 S. Dobson Ave.   (41.7640317, -87.59928813)  \n",
       "2    6205 N. Sheridan Rd.  (41.99480562, -87.65538421)  \n",
       "3      1331 W. Monroe St.  (41.88015941, -87.66077867)  \n",
       "4   3501 N. Kilbourn Ave.  (41.94450485, -87.73951111)  "
      ]
     },
     "execution_count": 303,
     "metadata": {},
     "output_type": "execute_result"
    }
   ],
   "source": [
    "#__SOLUTION__\n",
    "\n",
    "movies = pd.read_csv('data/Chicago_Park_District__Movies_in_the_Parks_2019.csv')\n",
    "\n",
    "movies.head()"
   ]
  },
  {
   "cell_type": "markdown",
   "metadata": {},
   "source": [
    "#### What kind of type is the data in the Date column?  Turn it into a datetime type if it's not already"
   ]
  },
  {
   "cell_type": "code",
   "execution_count": null,
   "metadata": {},
   "outputs": [],
   "source": []
  },
  {
   "cell_type": "code",
   "execution_count": 278,
   "metadata": {},
   "outputs": [
    {
     "name": "stdout",
     "output_type": "stream",
     "text": [
      "Day                      int64\n",
      "Date            datetime64[ns]\n",
      "Park                    object\n",
      "Park Phone              object\n",
      "Title                   object\n",
      "CC                      object\n",
      "Rating                  object\n",
      "Underwriter             object\n",
      "Park Address            object\n",
      "Location                object\n",
      "area_code               object\n",
      "dtype: object\n"
     ]
    }
   ],
   "source": [
    "#__SOLUTION__\n",
    "\n",
    "print(movies.dtypes)\n",
    "\n",
    "movies.Date = pd.to_datetime(movies.Date)"
   ]
  },
  {
   "cell_type": "markdown",
   "metadata": {},
   "source": [
    "#### Replace the Day column with an integer for the day of the week derived from the datetime object in the Date column \n",
    "\n",
    "[*Hint*](https://pandas.pydata.org/pandas-docs/stable/reference/api/pandas.DatetimeIndex.dayofweek.html)"
   ]
  },
  {
   "cell_type": "code",
   "execution_count": null,
   "metadata": {},
   "outputs": [],
   "source": []
  },
  {
   "cell_type": "code",
   "execution_count": 318,
   "metadata": {},
   "outputs": [
    {
     "data": {
      "text/plain": [
       "105    Mon\n",
       "84     Mon\n",
       "28     Mon\n",
       "185    Mon\n",
       "23     Mon\n",
       "      ... \n",
       "138    Sun\n",
       "44     Sun\n",
       "33     Sun\n",
       "179    Sun\n",
       "184    Sun\n",
       "Name: Day, Length: 210, dtype: category\n",
       "Categories (7, object): [Mon < Tue < Wed < Thu < Fri < Sat < Sun]"
      ]
     },
     "execution_count": 318,
     "metadata": {},
     "output_type": "execute_result"
    }
   ],
   "source": [
    "#__SOLUTION__\n",
    "movies.Day = pd.Categorical(\n",
    "    movies.Day, \n",
    "    categories = ['Mon', 'Tue', 'Wed', 'Thu', 'Fri', 'Sat', 'Sun'],\n",
    "    ordered=True\n",
    "    )"
   ]
  },
  {
   "cell_type": "markdown",
   "metadata": {},
   "source": [
    "## Data Exploration"
   ]
  },
  {
   "cell_type": "markdown",
   "metadata": {},
   "source": [
    "#### What is the most frequent place to show a movie?  (Remember that there might be a tie!)"
   ]
  },
  {
   "cell_type": "code",
   "execution_count": null,
   "metadata": {},
   "outputs": [],
   "source": []
  },
  {
   "cell_type": "code",
   "execution_count": 38,
   "metadata": {},
   "outputs": [
    {
     "data": {
      "text/plain": [
       "['Ward (A. Montgomery) Park']"
      ]
     },
     "execution_count": 38,
     "metadata": {},
     "output_type": "execute_result"
    }
   ],
   "source": [
    "#__SOLUTION__\n",
    "venue_counts = (\n",
    "    movies\n",
    "    .Park\n",
    "    .value_counts()\n",
    ")\n",
    "\n",
    "max_spot = venue_counts.max()\n",
    "\n",
    "venue_counts[venue_counts==max_spot].index.tolist()"
   ]
  },
  {
   "cell_type": "markdown",
   "metadata": {},
   "source": [
    "#### Are there more 773 or 312 area codes for places where movies are shown?  "
   ]
  },
  {
   "cell_type": "code",
   "execution_count": null,
   "metadata": {},
   "outputs": [],
   "source": []
  },
  {
   "cell_type": "code",
   "execution_count": 22,
   "metadata": {},
   "outputs": [
    {
     "data": {
      "text/plain": [
       "312    151\n",
       "773     58\n",
       "317      1\n",
       "Name: area_code, dtype: int64"
      ]
     },
     "execution_count": 22,
     "metadata": {},
     "output_type": "execute_result"
    }
   ],
   "source": [
    "#__SOLUTION__\n",
    "movies['area_code'] = [num[1:4] for num in movies['Park Phone']]\n",
    "\n",
    "movies.area_code.value_counts()"
   ]
  },
  {
   "cell_type": "markdown",
   "metadata": {},
   "source": [
    "#### Group the data by what day of the week the movies are shown using `.groupby()`\n",
    "\n",
    "#### Assign to the variable \"movies_grp_day\" (what type of object is this?)"
   ]
  },
  {
   "cell_type": "code",
   "execution_count": null,
   "metadata": {},
   "outputs": [],
   "source": []
  },
  {
   "cell_type": "code",
   "execution_count": 305,
   "metadata": {},
   "outputs": [
    {
     "data": {
      "text/plain": [
       "pandas.core.groupby.generic.DataFrameGroupBy"
      ]
     },
     "execution_count": 305,
     "metadata": {},
     "output_type": "execute_result"
    }
   ],
   "source": [
    "#__SOLUTION__\n",
    "\n",
    "movies_grp_day = movies.groupby('Day')\n",
    "\n",
    "type(movies_grp_day)"
   ]
  },
  {
   "cell_type": "markdown",
   "metadata": {},
   "source": [
    "#### Select just the movies shown on Monday (what type of object is *this*?)"
   ]
  },
  {
   "cell_type": "code",
   "execution_count": null,
   "metadata": {},
   "outputs": [],
   "source": []
  },
  {
   "cell_type": "code",
   "execution_count": null,
   "metadata": {},
   "outputs": [],
   "source": [
    "#__SOLUTION__\n",
    "\n",
    "movies_mon = movies_grp_day.get_group('Mon')\n",
    "\n",
    "type(movies_mon)"
   ]
  },
  {
   "cell_type": "markdown",
   "metadata": {},
   "source": [
    "#### Using `movies_grp_day`, get the modal rating shown each day\n",
    "\n",
    "*Hint: look at [the groupby documentation](https://pandas.pydata.org/pandas-docs/version/0.23.4/generated/pandas.core.groupby.DataFrameGroupBy.agg.html) and write a function*"
   ]
  },
  {
   "cell_type": "code",
   "execution_count": null,
   "metadata": {},
   "outputs": [],
   "source": []
  },
  {
   "cell_type": "code",
   "execution_count": 37,
   "metadata": {},
   "outputs": [
    {
     "data": {
      "text/plain": [
       "Day\n",
       "Fri       PG\n",
       "Mon       PG\n",
       "Sat       PG\n",
       "Sun       PG\n",
       "Thu    PG-13\n",
       "Tue       PG\n",
       "Wed       PG\n",
       "Name: Rating, dtype: object"
      ]
     },
     "execution_count": 37,
     "metadata": {},
     "output_type": "execute_result"
    }
   ],
   "source": [
    "#__SOLUTION__\n",
    "\n",
    "def groupby_mode(gm_group):\n",
    "    '''\n",
    "    Returns the modal value for a group in a groupby object\n",
    "    \n",
    "    Parameters:\n",
    "        gm_group: group of a groupby object\n",
    "    \n",
    "    Returns:\n",
    "        list of modal values in gm_group\n",
    "    '''\n",
    "    values = gm_group.value_counts()\n",
    "        \n",
    "    mode_list = list(\n",
    "        values[\n",
    "            values==values.max()\n",
    "        ]\n",
    "        .index\n",
    "    )\n",
    "    \n",
    "    #what does this do? why only apply it when len==1?\n",
    "    if len(mode_list)==1:\n",
    "        mode_list = mode_list[0]\n",
    "     \n",
    "    return mode_list\n",
    "    \n",
    "movies_grp_day['Rating'].agg(\n",
    "    lambda x: \n",
    "    groupby_mode(x)\n",
    ")"
   ]
  },
  {
   "cell_type": "markdown",
   "metadata": {},
   "source": [
    "## Strrretch Goal\n",
    "\n",
    "#### Make a stacked bar chart showing the ratings of movies across days of the week using fig and ax objects\n",
    "\n",
    "#### Title the x-axis \"Days of the Week\"\n",
    "\n",
    "#### Title the y-axis \"Number of Movies Shown\"\n",
    "\n",
    "#### Title the chart as a whole \"Chicago Movies in the Park by Days and Rating\"\n",
    "\n",
    "[*Hint*](https://matplotlib.org/3.1.1/gallery/lines_bars_and_markers/bar_stacked.html)"
   ]
  },
  {
   "cell_type": "code",
   "execution_count": null,
   "metadata": {},
   "outputs": [],
   "source": []
  },
  {
   "cell_type": "code",
   "execution_count": 359,
   "metadata": {},
   "outputs": [
    {
     "data": {
      "image/png": "[encoded data removed]",
      "text/plain": [
       "<Figure size 432x288 with 1 Axes>"
      ]
     },
     "metadata": {
      "needs_background": "light"
     },
     "output_type": "display_data"
    }
   ],
   "source": [
    "#__SOLUTION__\n",
    "\n",
    "\n",
    "movie_day_ratings = (\n",
    "movies\n",
    "    .groupby(['Day', 'Rating'])['Day', 'Rating']\n",
    "    .count()\n",
    "    .unstack()\n",
    "    .drop(['Rating'], axis=1)\n",
    "    .unstack()\n",
    "    .reset_index()\n",
    "    .drop('level_0', axis=1)\n",
    "    .rename(columns={0:'Count'})\n",
    ")\n",
    "\n",
    "\n",
    "fig, ax = plt.subplots()\n",
    "for x in movie_day_ratings.index:\n",
    "    ax.bar(\n",
    "        movie_day_ratings['Day'][x], \n",
    "        movie_day_ratings['Count'][x],\n",
    "        color=color_map[movie_day_ratings['Rating'][x]]\n",
    "          )\n",
    "\n",
    "movies_grp_day.get_group('Fri')['Rating'].value_counts()\n",
    "\n",
    "def rating_counts(day):\n",
    "    counts = movies_grp_day.get_group(day)['Rating'].value_counts()\n",
    "\n",
    "    counts.sort_values(ascending=True, inplace=True)\n",
    "\n",
    "    zipped = [list(x) for x in zip(counts.index, counts.values)]\n",
    "\n",
    "    zipped = [rating+[day] for rating in zipped]\n",
    "    print(zipped)\n",
    "    return zipped\n",
    "    \n",
    "def bar_chart(x, y, leg):\n",
    "    return ax.bar(x,y, legend=leg)\n",
    "\n",
    "# [\n",
    "#     ax.bar(rating[2], rating[1], label=rating[0]) \n",
    "#     for \n",
    "#     rating \n",
    "#     in \n",
    "#         [rating_counts(day) \n",
    "#          for \n",
    "#          day \n",
    "#          in \n",
    "#          movies.Day.unique()\n",
    "#     ]\n",
    "# ]"
   ]
  },
  {
   "cell_type": "code",
   "execution_count": 369,
   "metadata": {},
   "outputs": [
    {
     "data": {
      "image/png": "[encoded data removed]",
      "text/plain": [
       "<Figure size 432x288 with 1 Axes>"
      ]
     },
     "metadata": {
      "needs_background": "light"
     },
     "output_type": "display_data"
    }
   ],
   "source": [
    "#__SOLUTION__\n",
    "\n",
    "#Turn Day column into an ordered categorical and sort\n",
    "movies.Day = pd.Categorical(\n",
    "    movies.Day, \n",
    "    categories = ['Mon', 'Tue', 'Wed', 'Thu', 'Fri', 'Sat', 'Sun'],\n",
    "    ordered=True\n",
    "    )\n",
    "\n",
    "movies.sort_values('Day', ascending=True, inplace=True)\n",
    "\n",
    "#create figures\n",
    "fig, ax = plt.subplots()\n",
    "color_map = dict(zip(['NR', 'G', 'PG', 'PG-13'], ['r','b','g','y']))\n",
    "\n",
    "#this will store info for the legend\n",
    "reps = []\n",
    "\n",
    "#for each day:\n",
    "for index, day in enumerate(movies.Day.unique()):\n",
    "    \n",
    "    #get series with index rating and values play count\n",
    "    counts = movies_grp_day.get_group(day)['Rating'].value_counts()\n",
    "    \n",
    "    #sort so ratings are in the same order each day\n",
    "    counts = counts.sort_index(ascending=True)\n",
    "    \n",
    "    #get all the information we need for each graph in one object\n",
    "    #store as (rating, play count, day)\n",
    "    zipped = [rating+[day] \n",
    "              for rating \n",
    "              in \n",
    "                  [list(x) \n",
    "                   for x \n",
    "                   in zip(\n",
    "                       counts.index, \n",
    "                       counts.values\n",
    "                   )\n",
    "                  ]\n",
    "             ]\n",
    "    \n",
    "    #track where to start each stacked bar \n",
    "    lower=0\n",
    "    \n",
    "    #for each rating per day\n",
    "    for rating in zipped:\n",
    "        \n",
    "        #extract (rating, play count, day) and use to graph\n",
    "        rep, = ax.bar(rating[2], \n",
    "               rating[1], \n",
    "               color=color_map[rating[0]],\n",
    "               bottom=lower       \n",
    "        ) \n",
    "        \n",
    "        #set bottom of next bar at top of graphed one\n",
    "        lower=rating[1]+lower\n",
    "        \n",
    "        #append graph info for legend\n",
    "        reps.append(rep)\n",
    "        \n",
    "#graph metadata\n",
    "ax.legend(handles=reps, labels=['G', 'NR', 'PG', 'PG-13'])\n",
    "ax.set_xlabel('Day')\n",
    "ax.set_ylabel('Count of Movies Shown')\n",
    "ax.set_title('Chicago Movies in the Park by Day and Rating')\n",
    "plt.show()"
   ]
  },
  {
   "cell_type": "code",
   "execution_count": null,
   "metadata": {},
   "outputs": [],
   "source": []
  },
  {
   "cell_type": "code",
   "execution_count": null,
   "metadata": {},
   "outputs": [],
   "source": []
  },
  {
   "cell_type": "code",
   "execution_count": null,
   "metadata": {},
   "outputs": [],
   "source": []
  }
 ],
 "metadata": {
  "kernelspec": {
   "display_name": "Python 3",
   "language": "python",
   "name": "python3"
  },
  "language_info": {
   "codemirror_mode": {
    "name": "ipython",
    "version": 3
   },
   "file_extension": ".py",
   "mimetype": "text/x-python",
   "name": "python",
   "nbconvert_exporter": "python",
   "pygments_lexer": "ipython3",
   "version": "3.7.4"
  }
 },
 "nbformat": 4,
 "nbformat_minor": 4
}

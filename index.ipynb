{
 "cells": [
  {
   "cell_type": "markdown",
   "metadata": {},
   "source": [
    "# Pandas Warmup\n",
    "\n",
    "Pandas out yer ears"
   ]
  },
  {
   "cell_type": "markdown",
   "metadata": {},
   "source": [
    "Run the cell below w/o changes to load tests"
   ]
  },
  {
   "cell_type": "code",
   "execution_count": 1,
   "metadata": {},
   "outputs": [],
   "source": [
    "#run without changes\n",
    "\n",
    "from test_background import pkl_dump, test_obj_dict, run_test_dict, run_test"
   ]
  },
  {
   "cell_type": "code",
   "execution_count": 2,
   "metadata": {},
   "outputs": [],
   "source": [
    "#__SOLUTION__\n",
    "\n",
    "#run without changes\n",
    "\n",
    "from test_background import pkl_dump, test_obj_dict, run_test_dict, run_test"
   ]
  },
  {
   "cell_type": "markdown",
   "metadata": {},
   "source": [
    "## Data setup\n",
    "\n",
    "Import: \n",
    "\n",
    "- Pandas under the alias 'pd'\n",
    "\n",
    "- Matplotlib.pyplot under the alias 'plt'\n",
    "\n",
    "Run:\n",
    "- %matplotlib inline"
   ]
  },
  {
   "cell_type": "code",
   "execution_count": 4,
   "metadata": {},
   "outputs": [],
   "source": [
    "#Your code here"
   ]
  },
  {
   "cell_type": "code",
   "execution_count": 4,
   "metadata": {},
   "outputs": [],
   "source": [
    "#__SOLUTION__\n",
    "\n",
    "#data manip\n",
    "import pandas as pd\n",
    "\n",
    "#data viz\n",
    "import matplotlib.pyplot as plt\n",
    "\n",
    "#jn commands\n",
    "#run charts below cells\n",
    "%matplotlib inline "
   ]
  },
  {
   "cell_type": "markdown",
   "metadata": {},
   "source": [
    "#### Make a dataframe by reading in the csv 'Chicago_Park_District__Movies_in_the_Parks_2019' which is in the \"data\" folder  \n",
    "\n",
    "#### Assign the dataframe to the variable 'movies'\n",
    "\n",
    "#### Look at the first five rows"
   ]
  },
  {
   "cell_type": "code",
   "execution_count": 6,
   "metadata": {},
   "outputs": [],
   "source": [
    "#Your code here"
   ]
  },
  {
   "cell_type": "code",
   "execution_count": 7,
   "metadata": {},
   "outputs": [
    {
     "data": {
      "text/html": [
       "<div>\n",
       "<style scoped>\n",
       "    .dataframe tbody tr th:only-of-type {\n",
       "        vertical-align: middle;\n",
       "    }\n",
       "\n",
       "    .dataframe tbody tr th {\n",
       "        vertical-align: top;\n",
       "    }\n",
       "\n",
       "    .dataframe thead th {\n",
       "        text-align: right;\n",
       "    }\n",
       "</style>\n",
       "<table border=\"1\" class=\"dataframe\">\n",
       "  <thead>\n",
       "    <tr style=\"text-align: right;\">\n",
       "      <th></th>\n",
       "      <th>Day</th>\n",
       "      <th>Date</th>\n",
       "      <th>Park</th>\n",
       "      <th>Park Phone</th>\n",
       "      <th>Title</th>\n",
       "      <th>CC</th>\n",
       "      <th>Rating</th>\n",
       "      <th>Underwriter</th>\n",
       "      <th>Park Address</th>\n",
       "      <th>Location</th>\n",
       "    </tr>\n",
       "  </thead>\n",
       "  <tbody>\n",
       "    <tr>\n",
       "      <td>0</td>\n",
       "      <td>Mon</td>\n",
       "      <td>08/12/2019</td>\n",
       "      <td>River Park</td>\n",
       "      <td>(312) 742-7516</td>\n",
       "      <td>Hotel Transylvania 3</td>\n",
       "      <td>Y</td>\n",
       "      <td>PG</td>\n",
       "      <td>NaN</td>\n",
       "      <td>5100 N. Francisco Ave.</td>\n",
       "      <td>(41.97406838, -87.70144885)</td>\n",
       "    </tr>\n",
       "    <tr>\n",
       "      <td>1</td>\n",
       "      <td>Thu</td>\n",
       "      <td>07/18/2019</td>\n",
       "      <td>Hoard Playground Park</td>\n",
       "      <td>(773) 256-1903</td>\n",
       "      <td>Black Panther</td>\n",
       "      <td>Y</td>\n",
       "      <td>PG-13</td>\n",
       "      <td>NaN</td>\n",
       "      <td>7201 S. Dobson Ave.</td>\n",
       "      <td>(41.7640317, -87.59928813)</td>\n",
       "    </tr>\n",
       "    <tr>\n",
       "      <td>2</td>\n",
       "      <td>Fri</td>\n",
       "      <td>06/07/2019</td>\n",
       "      <td>Berger Park Cultural Center</td>\n",
       "      <td>(773) 761-0376</td>\n",
       "      <td>Some Like It Hot</td>\n",
       "      <td>Y</td>\n",
       "      <td>NR</td>\n",
       "      <td>NaN</td>\n",
       "      <td>6205 N. Sheridan Rd.</td>\n",
       "      <td>(41.99480562, -87.65538421)</td>\n",
       "    </tr>\n",
       "    <tr>\n",
       "      <td>3</td>\n",
       "      <td>Sat</td>\n",
       "      <td>07/13/2019</td>\n",
       "      <td>Skinner Park</td>\n",
       "      <td>(312) 746-5560</td>\n",
       "      <td>Big Hero 6</td>\n",
       "      <td>Y</td>\n",
       "      <td>PG</td>\n",
       "      <td>The Museum of Science and Industry</td>\n",
       "      <td>1331 W. Monroe St.</td>\n",
       "      <td>(41.88015941, -87.66077867)</td>\n",
       "    </tr>\n",
       "    <tr>\n",
       "      <td>4</td>\n",
       "      <td>Wed</td>\n",
       "      <td>07/24/2019</td>\n",
       "      <td>Kilbourn Park</td>\n",
       "      <td>(773) 685-3351</td>\n",
       "      <td>El Reality</td>\n",
       "      <td>Y</td>\n",
       "      <td>NR</td>\n",
       "      <td>The International Latino Cultural Center</td>\n",
       "      <td>3501 N. Kilbourn Ave.</td>\n",
       "      <td>(41.94450485, -87.73951111)</td>\n",
       "    </tr>\n",
       "  </tbody>\n",
       "</table>\n",
       "</div>"
      ],
      "text/plain": [
       "   Day        Date                         Park      Park Phone  \\\n",
       "0  Mon  08/12/2019                   River Park  (312) 742-7516   \n",
       "1  Thu  07/18/2019        Hoard Playground Park  (773) 256-1903   \n",
       "2  Fri  06/07/2019  Berger Park Cultural Center  (773) 761-0376   \n",
       "3  Sat  07/13/2019                 Skinner Park  (312) 746-5560   \n",
       "4  Wed  07/24/2019                Kilbourn Park  (773) 685-3351   \n",
       "\n",
       "                  Title CC Rating                               Underwriter  \\\n",
       "0  Hotel Transylvania 3  Y     PG                                       NaN   \n",
       "1         Black Panther  Y  PG-13                                       NaN   \n",
       "2      Some Like It Hot  Y     NR                                       NaN   \n",
       "3            Big Hero 6  Y     PG        The Museum of Science and Industry   \n",
       "4            El Reality  Y     NR  The International Latino Cultural Center   \n",
       "\n",
       "             Park Address                     Location  \n",
       "0  5100 N. Francisco Ave.  (41.97406838, -87.70144885)  \n",
       "1     7201 S. Dobson Ave.   (41.7640317, -87.59928813)  \n",
       "2    6205 N. Sheridan Rd.  (41.99480562, -87.65538421)  \n",
       "3      1331 W. Monroe St.  (41.88015941, -87.66077867)  \n",
       "4   3501 N. Kilbourn Ave.  (41.94450485, -87.73951111)  "
      ]
     },
     "execution_count": 7,
     "metadata": {},
     "output_type": "execute_result"
    }
   ],
   "source": [
    "#__SOLUTION__\n",
    "\n",
    "movies = pd.read_csv('data/Chicago_Park_District__Movies_in_the_Parks_2019.csv')\n",
    "\n",
    "movies.head()"
   ]
  },
  {
   "cell_type": "markdown",
   "metadata": {},
   "source": [
    "#### What kind of type is the data in the Date column?  Turn it into a datetime type if it's not already"
   ]
  },
  {
   "cell_type": "code",
   "execution_count": 8,
   "metadata": {},
   "outputs": [],
   "source": [
    "#Your code here"
   ]
  },
  {
   "cell_type": "code",
   "execution_count": 9,
   "metadata": {},
   "outputs": [
    {
     "name": "stdout",
     "output_type": "stream",
     "text": [
      "Day             object\n",
      "Date            object\n",
      "Park            object\n",
      "Park Phone      object\n",
      "Title           object\n",
      "CC              object\n",
      "Rating          object\n",
      "Underwriter     object\n",
      "Park Address    object\n",
      "Location        object\n",
      "dtype: object\n"
     ]
    }
   ],
   "source": [
    "#__SOLUTION__\n",
    "\n",
    "print(movies.dtypes)\n",
    "\n",
    "movies.Date = pd.to_datetime(movies.Date)"
   ]
  },
  {
   "cell_type": "markdown",
   "metadata": {},
   "source": [
    "#### Replace the truncated days of the week in the Days column with the full string of the day of the week using the Date column\n",
    "\n",
    "[*Hint*](https://pandas.pydata.org/pandas-docs/version/0.25.0/reference/api/pandas.Series.dt.day_name.html)"
   ]
  },
  {
   "cell_type": "code",
   "execution_count": 10,
   "metadata": {},
   "outputs": [],
   "source": [
    "#Your code here"
   ]
  },
  {
   "cell_type": "code",
   "execution_count": 11,
   "metadata": {},
   "outputs": [
    {
     "data": {
      "text/html": [
       "<div>\n",
       "<style scoped>\n",
       "    .dataframe tbody tr th:only-of-type {\n",
       "        vertical-align: middle;\n",
       "    }\n",
       "\n",
       "    .dataframe tbody tr th {\n",
       "        vertical-align: top;\n",
       "    }\n",
       "\n",
       "    .dataframe thead th {\n",
       "        text-align: right;\n",
       "    }\n",
       "</style>\n",
       "<table border=\"1\" class=\"dataframe\">\n",
       "  <thead>\n",
       "    <tr style=\"text-align: right;\">\n",
       "      <th></th>\n",
       "      <th>Day</th>\n",
       "      <th>Date</th>\n",
       "      <th>Park</th>\n",
       "      <th>Park Phone</th>\n",
       "      <th>Title</th>\n",
       "      <th>CC</th>\n",
       "      <th>Rating</th>\n",
       "      <th>Underwriter</th>\n",
       "      <th>Park Address</th>\n",
       "      <th>Location</th>\n",
       "    </tr>\n",
       "  </thead>\n",
       "  <tbody>\n",
       "    <tr>\n",
       "      <td>0</td>\n",
       "      <td>Monday</td>\n",
       "      <td>2019-08-12</td>\n",
       "      <td>River Park</td>\n",
       "      <td>(312) 742-7516</td>\n",
       "      <td>Hotel Transylvania 3</td>\n",
       "      <td>Y</td>\n",
       "      <td>PG</td>\n",
       "      <td>NaN</td>\n",
       "      <td>5100 N. Francisco Ave.</td>\n",
       "      <td>(41.97406838, -87.70144885)</td>\n",
       "    </tr>\n",
       "    <tr>\n",
       "      <td>1</td>\n",
       "      <td>Thursday</td>\n",
       "      <td>2019-07-18</td>\n",
       "      <td>Hoard Playground Park</td>\n",
       "      <td>(773) 256-1903</td>\n",
       "      <td>Black Panther</td>\n",
       "      <td>Y</td>\n",
       "      <td>PG-13</td>\n",
       "      <td>NaN</td>\n",
       "      <td>7201 S. Dobson Ave.</td>\n",
       "      <td>(41.7640317, -87.59928813)</td>\n",
       "    </tr>\n",
       "    <tr>\n",
       "      <td>2</td>\n",
       "      <td>Friday</td>\n",
       "      <td>2019-06-07</td>\n",
       "      <td>Berger Park Cultural Center</td>\n",
       "      <td>(773) 761-0376</td>\n",
       "      <td>Some Like It Hot</td>\n",
       "      <td>Y</td>\n",
       "      <td>NR</td>\n",
       "      <td>NaN</td>\n",
       "      <td>6205 N. Sheridan Rd.</td>\n",
       "      <td>(41.99480562, -87.65538421)</td>\n",
       "    </tr>\n",
       "    <tr>\n",
       "      <td>3</td>\n",
       "      <td>Saturday</td>\n",
       "      <td>2019-07-13</td>\n",
       "      <td>Skinner Park</td>\n",
       "      <td>(312) 746-5560</td>\n",
       "      <td>Big Hero 6</td>\n",
       "      <td>Y</td>\n",
       "      <td>PG</td>\n",
       "      <td>The Museum of Science and Industry</td>\n",
       "      <td>1331 W. Monroe St.</td>\n",
       "      <td>(41.88015941, -87.66077867)</td>\n",
       "    </tr>\n",
       "    <tr>\n",
       "      <td>4</td>\n",
       "      <td>Wednesday</td>\n",
       "      <td>2019-07-24</td>\n",
       "      <td>Kilbourn Park</td>\n",
       "      <td>(773) 685-3351</td>\n",
       "      <td>El Reality</td>\n",
       "      <td>Y</td>\n",
       "      <td>NR</td>\n",
       "      <td>The International Latino Cultural Center</td>\n",
       "      <td>3501 N. Kilbourn Ave.</td>\n",
       "      <td>(41.94450485, -87.73951111)</td>\n",
       "    </tr>\n",
       "  </tbody>\n",
       "</table>\n",
       "</div>"
      ],
      "text/plain": [
       "         Day       Date                         Park      Park Phone  \\\n",
       "0     Monday 2019-08-12                   River Park  (312) 742-7516   \n",
       "1   Thursday 2019-07-18        Hoard Playground Park  (773) 256-1903   \n",
       "2     Friday 2019-06-07  Berger Park Cultural Center  (773) 761-0376   \n",
       "3   Saturday 2019-07-13                 Skinner Park  (312) 746-5560   \n",
       "4  Wednesday 2019-07-24                Kilbourn Park  (773) 685-3351   \n",
       "\n",
       "                  Title CC Rating                               Underwriter  \\\n",
       "0  Hotel Transylvania 3  Y     PG                                       NaN   \n",
       "1         Black Panther  Y  PG-13                                       NaN   \n",
       "2      Some Like It Hot  Y     NR                                       NaN   \n",
       "3            Big Hero 6  Y     PG        The Museum of Science and Industry   \n",
       "4            El Reality  Y     NR  The International Latino Cultural Center   \n",
       "\n",
       "             Park Address                     Location  \n",
       "0  5100 N. Francisco Ave.  (41.97406838, -87.70144885)  \n",
       "1     7201 S. Dobson Ave.   (41.7640317, -87.59928813)  \n",
       "2    6205 N. Sheridan Rd.  (41.99480562, -87.65538421)  \n",
       "3      1331 W. Monroe St.  (41.88015941, -87.66077867)  \n",
       "4   3501 N. Kilbourn Ave.  (41.94450485, -87.73951111)  "
      ]
     },
     "execution_count": 11,
     "metadata": {},
     "output_type": "execute_result"
    }
   ],
   "source": [
    "#__SOLUTION__\n",
    "movies['Day'] = movies['Date'].dt.day_name()\n",
    "\n",
    "movies.head()"
   ]
  },
  {
   "cell_type": "markdown",
   "metadata": {},
   "source": [
    "#### Sort `movies` by the Day column, with 'Monday' first and 'Sunday' last"
   ]
  },
  {
   "cell_type": "code",
   "execution_count": 12,
   "metadata": {},
   "outputs": [],
   "source": [
    "#Your code here"
   ]
  },
  {
   "cell_type": "code",
   "execution_count": 13,
   "metadata": {},
   "outputs": [
    {
     "data": {
      "text/html": [
       "<div>\n",
       "<style scoped>\n",
       "    .dataframe tbody tr th:only-of-type {\n",
       "        vertical-align: middle;\n",
       "    }\n",
       "\n",
       "    .dataframe tbody tr th {\n",
       "        vertical-align: top;\n",
       "    }\n",
       "\n",
       "    .dataframe thead th {\n",
       "        text-align: right;\n",
       "    }\n",
       "</style>\n",
       "<table border=\"1\" class=\"dataframe\">\n",
       "  <thead>\n",
       "    <tr style=\"text-align: right;\">\n",
       "      <th></th>\n",
       "      <th>Day</th>\n",
       "      <th>Date</th>\n",
       "      <th>Park</th>\n",
       "      <th>Park Phone</th>\n",
       "      <th>Title</th>\n",
       "      <th>CC</th>\n",
       "      <th>Rating</th>\n",
       "      <th>Underwriter</th>\n",
       "      <th>Park Address</th>\n",
       "      <th>Location</th>\n",
       "    </tr>\n",
       "  </thead>\n",
       "  <tbody>\n",
       "    <tr>\n",
       "      <td>0</td>\n",
       "      <td>Monday</td>\n",
       "      <td>2019-08-12</td>\n",
       "      <td>River Park</td>\n",
       "      <td>(312) 742-7516</td>\n",
       "      <td>Hotel Transylvania 3</td>\n",
       "      <td>Y</td>\n",
       "      <td>PG</td>\n",
       "      <td>NaN</td>\n",
       "      <td>5100 N. Francisco Ave.</td>\n",
       "      <td>(41.97406838, -87.70144885)</td>\n",
       "    </tr>\n",
       "    <tr>\n",
       "      <td>154</td>\n",
       "      <td>Monday</td>\n",
       "      <td>2019-06-17</td>\n",
       "      <td>Grant Park: Logan Monument</td>\n",
       "      <td>(312) 742-1134</td>\n",
       "      <td>Chicago</td>\n",
       "      <td>Y</td>\n",
       "      <td>PG-13</td>\n",
       "      <td>NaN</td>\n",
       "      <td>900 S. Michigan Ave.</td>\n",
       "      <td>(41.87055847, -87.62428661)</td>\n",
       "    </tr>\n",
       "    <tr>\n",
       "      <td>28</td>\n",
       "      <td>Monday</td>\n",
       "      <td>2019-08-19</td>\n",
       "      <td>Grant Park: Logan Monument</td>\n",
       "      <td>(312) 742-1134</td>\n",
       "      <td>Grease</td>\n",
       "      <td>Y</td>\n",
       "      <td>PG</td>\n",
       "      <td>The Greater South Loop Association</td>\n",
       "      <td>900 S. Michigan Ave.</td>\n",
       "      <td>(41.87055847, -87.62428661)</td>\n",
       "    </tr>\n",
       "    <tr>\n",
       "      <td>140</td>\n",
       "      <td>Monday</td>\n",
       "      <td>2019-09-09</td>\n",
       "      <td>South Shore Cultural Center</td>\n",
       "      <td>(773) 256-0149</td>\n",
       "      <td>Robin Hood</td>\n",
       "      <td>Y</td>\n",
       "      <td>PG-13</td>\n",
       "      <td>South Shore Cultural Center</td>\n",
       "      <td>7059 S. South Shore Drive</td>\n",
       "      <td>(41.76660302, -87.56632372)</td>\n",
       "    </tr>\n",
       "    <tr>\n",
       "      <td>128</td>\n",
       "      <td>Monday</td>\n",
       "      <td>2019-07-15</td>\n",
       "      <td>Harold Washington Playlot Park</td>\n",
       "      <td>(312) 747-6620</td>\n",
       "      <td>Isle of Dogs</td>\n",
       "      <td>Y</td>\n",
       "      <td>PG-13</td>\n",
       "      <td>NaN</td>\n",
       "      <td>5200 S. Hyde Park Blvd.</td>\n",
       "      <td>(41.80047033, -87.58450476)</td>\n",
       "    </tr>\n",
       "  </tbody>\n",
       "</table>\n",
       "</div>"
      ],
      "text/plain": [
       "        Day       Date                            Park      Park Phone  \\\n",
       "0    Monday 2019-08-12                      River Park  (312) 742-7516   \n",
       "154  Monday 2019-06-17      Grant Park: Logan Monument  (312) 742-1134   \n",
       "28   Monday 2019-08-19      Grant Park: Logan Monument  (312) 742-1134   \n",
       "140  Monday 2019-09-09     South Shore Cultural Center  (773) 256-0149   \n",
       "128  Monday 2019-07-15  Harold Washington Playlot Park  (312) 747-6620   \n",
       "\n",
       "                    Title CC Rating                         Underwriter  \\\n",
       "0    Hotel Transylvania 3  Y     PG                                 NaN   \n",
       "154               Chicago  Y  PG-13                                 NaN   \n",
       "28                 Grease  Y     PG  The Greater South Loop Association   \n",
       "140            Robin Hood  Y  PG-13         South Shore Cultural Center   \n",
       "128          Isle of Dogs  Y  PG-13                                 NaN   \n",
       "\n",
       "                  Park Address                     Location  \n",
       "0       5100 N. Francisco Ave.  (41.97406838, -87.70144885)  \n",
       "154       900 S. Michigan Ave.  (41.87055847, -87.62428661)  \n",
       "28        900 S. Michigan Ave.  (41.87055847, -87.62428661)  \n",
       "140  7059 S. South Shore Drive  (41.76660302, -87.56632372)  \n",
       "128    5200 S. Hyde Park Blvd.  (41.80047033, -87.58450476)  "
      ]
     },
     "execution_count": 13,
     "metadata": {},
     "output_type": "execute_result"
    }
   ],
   "source": [
    "#__SOLUTION__\n",
    "\n",
    "# Turn Day column into an ordered categorical and sort\n",
    "# this allows us to define a 'sort order'\n",
    "movies.Day = pd.Categorical(\n",
    "    movies.Day, \n",
    "    categories = [\n",
    "        'Monday', 'Tuesday', 'Wednesday', \n",
    "        'Thursday', 'Friday', 'Saturday', \n",
    "        'Sunday'\n",
    "    ],\n",
    "    ordered=True\n",
    "    )\n",
    "\n",
    "movies.sort_values('Day', ascending=True, inplace=True)\n",
    "movies.head()"
   ]
  },
  {
   "cell_type": "markdown",
   "metadata": {},
   "source": [
    "## Data Exploration"
   ]
  },
  {
   "cell_type": "markdown",
   "metadata": {},
   "source": [
    "#### What is the most frequent place to show a movie?  (Remember that there might be a tie!)\n",
    "\n",
    "#### Assign your answer to the variable `venue_max` as a list of one or more strings"
   ]
  },
  {
   "cell_type": "code",
   "execution_count": 14,
   "metadata": {},
   "outputs": [],
   "source": [
    "#Your code here"
   ]
  },
  {
   "cell_type": "code",
   "execution_count": 15,
   "metadata": {},
   "outputs": [
    {
     "data": {
      "text/plain": [
       "['Ward (A. Montgomery) Park']"
      ]
     },
     "execution_count": 15,
     "metadata": {},
     "output_type": "execute_result"
    }
   ],
   "source": [
    "#__SOLUTION__\n",
    "venue_counts = (\n",
    "    movies\n",
    "    .Park\n",
    "    .value_counts()\n",
    ")\n",
    "\n",
    "max_spot = venue_counts.max()\n",
    "\n",
    "venue_max = venue_counts[venue_counts==max_spot].index.tolist()\n",
    "\n",
    "# #used for tests\n",
    "# pkl_dump([(venue_max, 'venue_max')])\n",
    "venue_max"
   ]
  },
  {
   "cell_type": "code",
   "execution_count": 18,
   "metadata": {},
   "outputs": [],
   "source": [
    "#test your answer here\n",
    "\n",
    "run_test(venue_max, 'venue_max')"
   ]
  },
  {
   "cell_type": "markdown",
   "metadata": {},
   "source": [
    "#### What's the area code in which movies are shown most frequently?\n",
    "\n",
    "#### Assign your answer to the variable `area_code` as an integer"
   ]
  },
  {
   "cell_type": "code",
   "execution_count": 46,
   "metadata": {},
   "outputs": [],
   "source": [
    "#Your code here"
   ]
  },
  {
   "cell_type": "code",
   "execution_count": 21,
   "metadata": {},
   "outputs": [
    {
     "data": {
      "text/plain": [
       "312"
      ]
     },
     "execution_count": 21,
     "metadata": {},
     "output_type": "execute_result"
    }
   ],
   "source": [
    "#__SOLUTION__\n",
    "movies['area_code'] = [num[1:4] for num in movies['Park Phone']]\n",
    "\n",
    "area_code = int(\n",
    "    list(\n",
    "        movies\n",
    "        .area_code\n",
    "        .value_counts()\n",
    "        .index\n",
    "    )\n",
    "    [0]\n",
    ")\n",
    "# #used for tests\n",
    "# pkl_dump([(area_code, 'area_code')])\n",
    "area_code"
   ]
  },
  {
   "cell_type": "code",
   "execution_count": 23,
   "metadata": {},
   "outputs": [],
   "source": [
    "#run this cell to test your answer\n",
    "\n",
    "run_test(area_code, 'area_code')"
   ]
  },
  {
   "cell_type": "markdown",
   "metadata": {},
   "source": [
    "#### Group the data by what day of the week the movies are shown using `.groupby()`\n",
    "\n",
    "#### Assign to the variable `movies_grp_day` \n",
    "(concept check: what type of object is this?)\n",
    "\n",
    "#### Using `movies_grp_day`, assign to `movies_per_day` a series where the index is the day of the week and the values are total counts of movies per day \n",
    "\n",
    "#### Again using `movies_grp_day`, assign to `unique_movies_per_day` a series where the index is the day of the week and the values are unique counts of movies per day of the week.\n",
    "\n",
    "#### Use `movies_per_day` and `unique_movies_per_day` to calculate a series of how many repeat movies are shown per day of the week.  Assign this series to `repeats`\n",
    "\n",
    "#### If needed, sort `repeats` so Monday is the first entry and Sunday is the last"
   ]
  },
  {
   "cell_type": "code",
   "execution_count": 49,
   "metadata": {},
   "outputs": [],
   "source": [
    "#Your code here"
   ]
  },
  {
   "cell_type": "code",
   "execution_count": 24,
   "metadata": {},
   "outputs": [
    {
     "data": {
      "text/plain": [
       "Day\n",
       "Monday        3\n",
       "Tuesday       9\n",
       "Wednesday     6\n",
       "Thursday     10\n",
       "Friday       18\n",
       "Saturday      9\n",
       "Sunday        1\n",
       "Name: Title, dtype: int64"
      ]
     },
     "execution_count": 24,
     "metadata": {},
     "output_type": "execute_result"
    }
   ],
   "source": [
    "#__SOLUTION__\n",
    "\n",
    "movies_grp_day = movies.groupby('Day')\n",
    "\n",
    "movies_per_day = movies_grp_day['Title'].count()\n",
    "\n",
    "unique_movies_per_day = movies_grp_day['Title'].nunique()\n",
    "\n",
    "repeats = movies_per_day - unique_movies_per_day\n",
    "repeats\n",
    "\n",
    "# #used for tests\n",
    "# pkl_dump([(repeats, 'repeats')])"
   ]
  },
  {
   "cell_type": "code",
   "execution_count": 26,
   "metadata": {},
   "outputs": [],
   "source": [
    "#test your answer here\n",
    "\n",
    "run_test(repeats, 'repeats')"
   ]
  },
  {
   "cell_type": "markdown",
   "metadata": {},
   "source": [
    "#### Which day of the week has the fewest underwriters?  Run a calculation that results in a string (ie, don't run a calculation which displays the answer somewhere and then create a new string with the answer)\n",
    "\n",
    "#### Assign that string to `day_underwriter_min`"
   ]
  },
  {
   "cell_type": "code",
   "execution_count": 52,
   "metadata": {},
   "outputs": [],
   "source": [
    "#Your code here"
   ]
  },
  {
   "cell_type": "code",
   "execution_count": 27,
   "metadata": {},
   "outputs": [
    {
     "data": {
      "text/plain": [
       "'Friday'"
      ]
     },
     "execution_count": 27,
     "metadata": {},
     "output_type": "execute_result"
    }
   ],
   "source": [
    "#__SOLUTION__\n",
    "\n",
    "day_underwriter_min = (\n",
    "    movies\n",
    "    .groupby(['Day'])\n",
    "    ['Underwriter']\n",
    "    .count()\n",
    "    .idxmin()\n",
    ")\n",
    "\n",
    "# #used for tests\n",
    "# pkl_dump([(day_underwriter_min, 'day_underwriter_min')])\n",
    "day_underwriter_min"
   ]
  },
  {
   "cell_type": "code",
   "execution_count": 29,
   "metadata": {},
   "outputs": [],
   "source": [
    "#test your answer here\n",
    "\n",
    "run_test(day_underwriter_min, 'day_underwriter_min')"
   ]
  },
  {
   "cell_type": "markdown",
   "metadata": {},
   "source": [
    "#### Using `movies_grp_day`, assign the variable `model_ratings_day` to a series where the index is the days of the week and the values are the modal rating for movies shown that day\n",
    "\n",
    "#### Sort so that the first index is Monday and the last is Sunday\n",
    "\n",
    "\n",
    "*Hint 1: look at [the groupby documentation](https://pandas.pydata.org/pandas-docs/version/0.23.4/generated/pandas.core.groupby.DataFrameGroupBy.agg.html) and write a function*\n",
    "\n",
    "[*Hint 2*](https://pandas.pydata.org/pandas-docs/version/0.25.0/reference/api/pandas.Categorical.html#pandas.Categorical)"
   ]
  },
  {
   "cell_type": "code",
   "execution_count": null,
   "metadata": {},
   "outputs": [],
   "source": [
    "#Your code here"
   ]
  },
  {
   "cell_type": "code",
   "execution_count": 31,
   "metadata": {},
   "outputs": [
    {
     "data": {
      "text/plain": [
       "Day\n",
       "Monday          PG\n",
       "Tuesday         PG\n",
       "Wednesday       PG\n",
       "Thursday     PG-13\n",
       "Friday          PG\n",
       "Saturday        PG\n",
       "Sunday          PG\n",
       "Name: Rating, dtype: object"
      ]
     },
     "execution_count": 31,
     "metadata": {},
     "output_type": "execute_result"
    }
   ],
   "source": [
    "#__SOLUTION__\n",
    "\n",
    "\n",
    "def groupby_mode(gm_group):\n",
    "    '''\n",
    "    Returns the modal value for a group in a groupby object\n",
    "    \n",
    "    Parameters:\n",
    "        gm_group: group of a groupby object\n",
    "    \n",
    "    Returns:\n",
    "        list of modal values in gm_group\n",
    "    '''\n",
    "    values = gm_group.value_counts()\n",
    "        \n",
    "    mode_list = list(\n",
    "        values[\n",
    "            values==values.max()\n",
    "        ]\n",
    "        .index\n",
    "    )\n",
    "    \n",
    "    #what does this do? why only apply it when len==1?\n",
    "    if len(mode_list)==1:\n",
    "        mode_list = mode_list[0]\n",
    "     \n",
    "    return mode_list\n",
    "\n",
    "modal_ratings_day = movies_grp_day['Rating'].agg(\n",
    "    lambda x:\n",
    "    groupby_mode(x)\n",
    ")\n",
    "\n",
    "modal_ratings_day.sort_index(ascending=True, inplace=True)\n",
    "\n",
    "# #used for tests\n",
    "# pkl_dump([(modal_ratings_day, 'modal_ratings_day')])\n",
    "\n",
    "modal_ratings_day"
   ]
  },
  {
   "cell_type": "code",
   "execution_count": 33,
   "metadata": {},
   "outputs": [],
   "source": [
    "#test your answer here\n",
    "run_test(modal_ratings_day, 'modal_ratings_day')"
   ]
  },
  {
   "cell_type": "markdown",
   "metadata": {},
   "source": [
    "## Strrretch Goal\n",
    "\n",
    "#### Make a stacked bar chart showing the ratings of movies across days of the week using fig and ax objects\n",
    "\n",
    "#### Title the x-axis \"Day\"\n",
    "\n",
    "#### Title the y-axis \"Count of Movies Shown\"\n",
    "\n",
    "#### Title the chart as a whole \"Chicago Movies in the Park by Day and Rating\"\n",
    "\n",
    "[*Hint*](https://matplotlib.org/3.1.1/gallery/lines_bars_and_markers/bar_stacked.html)"
   ]
  },
  {
   "cell_type": "markdown",
   "metadata": {},
   "source": [
    "When you're done it should look like this (w/ figsize 8,5):\n",
    "\n",
    "![](viz/final_chart.png)"
   ]
  },
  {
   "cell_type": "code",
   "execution_count": 6,
   "metadata": {},
   "outputs": [],
   "source": [
    "#Your code here"
   ]
  },
  {
   "cell_type": "code",
   "execution_count": 58,
   "metadata": {},
   "outputs": [
    {
     "data": {
      "image/png": "[encoded data removed]",
      "text/plain": [
       "<Figure size 576x360 with 1 Axes>"
      ]
     },
     "metadata": {
      "needs_background": "light"
     },
     "output_type": "display_data"
    }
   ],
   "source": [
    "#__SOLUTION__\n",
    "\n",
    "movies.sort_values('Day', ascending=True, inplace=True)\n",
    "\n",
    "#create figures\n",
    "fig, ax = plt.subplots(figsize=(8,5))\n",
    "color_map = dict(zip(['NR', 'G', 'PG', 'PG-13'], ['r','b','g','y']))\n",
    "\n",
    "#this will store info for the legend\n",
    "reps = []\n",
    "\n",
    "#for each day:\n",
    "for index, day in enumerate(movies.Day.unique()):\n",
    "    \n",
    "    #get series with index rating and values play count\n",
    "    counts = movies.groupby('Day').get_group(day)['Rating'].value_counts()\n",
    "    \n",
    "    #sort so ratings are in the same order each day\n",
    "    counts = counts.sort_index(ascending=True)\n",
    "    \n",
    "    #track where to start each stacked bar \n",
    "    lower=0\n",
    "    \n",
    "    #for each rating per day\n",
    "    for rating, count in counts.items():        \n",
    "        \n",
    "        #extract (rating, play count, day) and use to graph\n",
    "        rep, = ax.bar(day, \n",
    "               count, \n",
    "               color=color_map[rating],\n",
    "               bottom=lower       \n",
    "        ) \n",
    "        \n",
    "        #set bottom of next bar at top of graphed one\n",
    "        lower=count+lower\n",
    "        \n",
    "        #append graph info for legend\n",
    "        reps.append(rep)\n",
    "        \n",
    "#graph metadata\n",
    "ax.legend(labels=['G', 'NR', 'PG', 'PG-13'])\n",
    "ax.set_xlabel('Day')\n",
    "ax.set_ylabel('Count of Movies Shown')\n",
    "ax.set_title('Chicago Movies in the Park by Day and Rating')\n",
    "plt.savefig('viz/final_chart.png')\n",
    "plt.show()"
   ]
  },
  {
   "cell_type": "code",
   "execution_count": null,
   "metadata": {},
   "outputs": [],
   "source": []
  }
 ],
 "metadata": {
  "kernelspec": {
   "display_name": "Python 3",
   "language": "python",
   "name": "python3"
  },
  "language_info": {
   "codemirror_mode": {
    "name": "ipython",
    "version": 3
   },
   "file_extension": ".py",
   "mimetype": "text/x-python",
   "name": "python",
   "nbconvert_exporter": "python",
   "pygments_lexer": "ipython3",
   "version": "3.7.4"
  }
 },
 "nbformat": 4,
 "nbformat_minor": 4
}
